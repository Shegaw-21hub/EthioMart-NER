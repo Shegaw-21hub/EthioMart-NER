{
 "cells": [
  {
   "cell_type": "code",
   "execution_count": 1,
   "metadata": {},
   "outputs": [
    {
     "name": "stdout",
     "output_type": "stream",
     "text": [
      "Imitation\tB-PRODUCT\n",
      "Volcano\tI-PRODUCT\n",
      "Humidifier\tI-PRODUCT\n",
      "with\tI-PRODUCT\n",
      "LED\tI-PRODUCT\n",
      "Light\tI-PRODUCT\n",
      "ዋጋ፦\tO\n",
      "💲🏷\tO\n",
      "1400\tI-PRICE\n",
      "ብር\tO\n"
     ]
    }
   ],
   "source": [
    "import re\n",
    "\n",
    "# Sample message (replace this with your actual message text)\n",
    "text = \"\"\"\n",
    "📌 Imitation Volcano Humidifier with LED Light\n",
    "ዋጋ፦ 💲🏷 1400 ብር\n",
    "\"\"\"\n",
    "\n",
    "# Simple NER tagging logic\n",
    "def tag_text(text):\n",
    "    lines = text.split('\\n')\n",
    "    tagged_tokens = []\n",
    "\n",
    "    for line in lines:\n",
    "        if \"ዋጋ\" in line or \"💲\" in line:\n",
    "            price_match = re.findall(r\"\\d+(?:,\\d+)?\", line)\n",
    "            if price_match:\n",
    "                for i, token in enumerate(line.split()):\n",
    "                    if token.strip().isdigit() or any(c.isdigit() for c in token):\n",
    "                        tagged_tokens.append((token, 'B-PRICE' if i == 0 else 'I-PRICE'))\n",
    "                    else:\n",
    "                        tagged_tokens.append((token, 'O'))\n",
    "        elif \"📌\" in line:\n",
    "            tokens = line.replace(\"📌\", \"\").split()\n",
    "            for i, token in enumerate(tokens):\n",
    "                tag = \"B-PRODUCT\" if i == 0 else \"I-PRODUCT\"\n",
    "                tagged_tokens.append((token, tag))\n",
    "        else:\n",
    "            for token in line.split():\n",
    "                tagged_tokens.append((token, 'O'))\n",
    "\n",
    "    return tagged_tokens\n",
    "\n",
    "# Apply the function and print in CoNLL format\n",
    "tagged = tag_text(text)\n",
    "\n",
    "for word, tag in tagged:\n",
    "    print(f\"{word}\\t{tag}\")\n"
   ]
  }
 ],
 "metadata": {
  "kernelspec": {
   "display_name": "venv",
   "language": "python",
   "name": "python3"
  },
  "language_info": {
   "codemirror_mode": {
    "name": "ipython",
    "version": 3
   },
   "file_extension": ".py",
   "mimetype": "text/x-python",
   "name": "python",
   "nbconvert_exporter": "python",
   "pygments_lexer": "ipython3",
   "version": "3.11.9"
  }
 },
 "nbformat": 4,
 "nbformat_minor": 2
}
