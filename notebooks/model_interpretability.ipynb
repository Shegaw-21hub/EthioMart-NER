{
 "cells": [
  {
   "cell_type": "code",
   "execution_count": null,
   "metadata": {},
   "outputs": [],
   "source": [
    "# notebooks/6_model_interpretability.ipynb\n",
    "import shap\n",
    "import transformers\n",
    "import numpy as np\n",
    "\n",
    "# Load best model\n",
    "model = AutoModelForTokenClassification.from_pretrained(\"models/xlm-roberta/final\")\n",
    "tokenizer = AutoTokenizer.from_pretrained(\"models/xlm-roberta/final\")\n",
    "\n",
    "# Create explainer\n",
    "explainer = shap.Explainer(model, tokenizer)\n",
    "\n",
    "# Sample text\n",
    "sample_text = \"ለልጆች ጫማ በ350 ብር ከመቀሌ ድረስ\"\n",
    "\n",
    "# SHAP explanation\n",
    "shap_values = explainer([sample_text])\n",
    "\n",
    "# Visualize\n",
    "shap.plots.text(shap_values)\n",
    "\n",
    "# LIME explanation\n",
    "from lime.lime_text import LimeTextExplainer\n",
    "\n",
    "def predict_proba(texts):\n",
    "    inputs = tokenizer(texts, return_tensors=\"pt\", padding=True, truncation=True)\n",
    "    outputs = model(**inputs)\n",
    "    probabilities = torch.nn.functional.softmax(outputs.logits, dim=-1)\n",
    "    return probabilities.detach().numpy()\n",
    "\n",
    "explainer = LimeTextExplainer(class_names=label_list)\n",
    "exp = explainer.explain_instance(sample_text, predict_proba, num_features=10, labels=[0,1,2])\n",
    "exp.show_in_notebook()"
   ]
  }
 ],
 "metadata": {
  "kernelspec": {
   "display_name": "venv",
   "language": "python",
   "name": "python3"
  },
  "language_info": {
   "name": "python",
   "version": "3.11.9"
  }
 },
 "nbformat": 4,
 "nbformat_minor": 2
}
